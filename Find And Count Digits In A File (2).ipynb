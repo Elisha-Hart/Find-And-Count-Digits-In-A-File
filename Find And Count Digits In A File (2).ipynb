{
 "cells": [
  {
   "cell_type": "code",
   "execution_count": 43,
   "id": "503dab37-2d62-42df-b8b2-87d52727405d",
   "metadata": {},
   "outputs": [],
   "source": [
    "file = open('text.txt','w')\n",
    "\n",
    "data = 'this is the content for the file Handling in Python'\n",
    "\n",
    "file.write(data)\n",
    "\n",
    "file.close()"
   ]
  },
  {
   "cell_type": "code",
   "execution_count": 34,
   "id": "331bbee3-cf6b-46fd-99e5-5249e9800d03",
   "metadata": {},
   "outputs": [],
   "source": [
    "#lines = ['first line of data\\n', 'second Line\\n', 'third line\\n']\n",
    "#file.writelines(lines)\n",
    "\n",
    "#print('Data written successfully')\n",
    "\n",
    "#file.close()"
   ]
  },
  {
   "cell_type": "code",
   "execution_count": 3,
   "id": "8fbc9b51-cd8f-4851-8e7c-4fd5c49a8ff8",
   "metadata": {},
   "outputs": [
    {
     "name": "stdout",
     "output_type": "stream",
     "text": [
      "first line of dataSecond Linethird line\n"
     ]
    }
   ],
   "source": [
    "### Reading the Data\n",
    "file = open('text.txt', 'r')\n",
    "\n",
    "data = file.read()\n",
    "\n",
    "print(data)\n",
    "\n",
    "file.close()"
   ]
  },
  {
   "cell_type": "code",
   "execution_count": 7,
   "id": "cbd9bf5f-09c9-4e46-9781-21ab1892c3c4",
   "metadata": {},
   "outputs": [
    {
     "name": "stdout",
     "output_type": "stream",
     "text": [
      "\n"
     ]
    },
    {
     "name": "stdin",
     "output_type": "stream",
     "text": [
      "enter the word:  data\n",
      "enter the word to be replaced:  DATA\n"
     ]
    },
    {
     "name": "stdout",
     "output_type": "stream",
     "text": [
      "\n"
     ]
    }
   ],
   "source": [
    "file = open('text, txt', 'r')\n",
    "\n",
    "data = file.read()\n",
    "\n",
    "print(data)\n",
    "\n",
    "file.close()\n",
    "\n",
    "word = input('enter the word: ')\n",
    "replac = input('enter the word to be replaced: ')\n",
    "\n",
    "if data.find(word) != -1:\n",
    "    data = data.replace(word, replac)\n",
    "    \n",
    "print(data)"
   ]
  },
  {
   "cell_type": "code",
   "execution_count": 8,
   "id": "2a1640e7-14f8-4858-8f9a-6a06727fc990",
   "metadata": {},
   "outputs": [
    {
     "name": "stdout",
     "output_type": "stream",
     "text": [
      "file updated successfully\n"
     ]
    }
   ],
   "source": [
    "file = open('text.txt', 'w')\n",
    "\n",
    "file.write(data)\n",
    "\n",
    "print('file updated successfully')\n",
    "\n",
    "file.close()"
   ]
  },
  {
   "cell_type": "code",
   "execution_count": 14,
   "id": "33fed2d3-2196-4a28-810a-44a8c605de4e",
   "metadata": {},
   "outputs": [],
   "source": [
    "file = open('text.txt','r')\n",
    "\n",
    "count=0\n",
    "for line in file:\n",
    "    parts = line.split()\n",
    "    count +=1\n",
    "    print(count)"
   ]
  },
  {
   "cell_type": "code",
   "execution_count": 16,
   "id": "35cf20fb-6175-409b-bb00-c4046a125660",
   "metadata": {},
   "outputs": [
    {
     "name": "stdout",
     "output_type": "stream",
     "text": [
      "0\n"
     ]
    }
   ],
   "source": [
    "file = open('text.txt','r')\n",
    "total_numbers = 0\n",
    "for line in file:\n",
    "    parts = line.split()\n",
    "    total_numbers += len(parts)\n",
    "print(total_numbers)"
   ]
  },
  {
   "cell_type": "code",
   "execution_count": 17,
   "id": "c1e0cec4-d9c5-4aa2-8f32-a993c09cce39",
   "metadata": {},
   "outputs": [],
   "source": [
    "file = open('text.txt','r')\n",
    "total_numbers = 0\n",
    "\n",
    "max_num = float('-inf')\n",
    "for line in file:\n",
    "    parts = line.split()\n",
    "    parts=map(int, parts)\n",
    "    max_num_in_line=max(parts)\n",
    "    \n",
    "    if max_num_in_line > max_num:\n",
    "        max_num = max_num_in_line\n",
    "    print(max_num)"
   ]
  },
  {
   "cell_type": "code",
   "execution_count": 26,
   "id": "7a805ad7-9e8a-4d5e-bfc8-4d93d8e7eec0",
   "metadata": {},
   "outputs": [],
   "source": [
    "file = open('text.txt','w')\n",
    "\n",
    "data = 'this is the content for file handling in Python'\n",
    "\n",
    "file.write(data)\n",
    "\n",
    "file.close()"
   ]
  },
  {
   "cell_type": "code",
   "execution_count": null,
   "id": "1e18f952-bcab-4911-8812-3a6a06f155ba",
   "metadata": {},
   "outputs": [],
   "source": []
  },
  {
   "cell_type": "code",
   "execution_count": null,
   "id": "410bada1-6db1-48f9-9c52-4205556b73d1",
   "metadata": {},
   "outputs": [],
   "source": []
  }
 ],
 "metadata": {
  "kernelspec": {
   "display_name": "anaconda-2022.05-py39",
   "language": "python",
   "name": "conda-env-anaconda-2022.05-py39-py"
  },
  "language_info": {
   "codemirror_mode": {
    "name": "ipython",
    "version": 3
   },
   "file_extension": ".py",
   "mimetype": "text/x-python",
   "name": "python",
   "nbconvert_exporter": "python",
   "pygments_lexer": "ipython3",
   "version": "3.9.12"
  }
 },
 "nbformat": 4,
 "nbformat_minor": 5
}
